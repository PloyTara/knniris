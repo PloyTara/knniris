{
  "nbformat": 4,
  "nbformat_minor": 0,
  "metadata": {
    "colab": {
      "name": "irisknn.ipynb",
      "provenance": [],
      "collapsed_sections": [],
      "authorship_tag": "ABX9TyPaYeyVZtxjG0ohxGk2lFjf",
      "include_colab_link": true
    },
    "kernelspec": {
      "name": "python3",
      "display_name": "Python 3"
    },
    "language_info": {
      "name": "python"
    }
  },
  "cells": [
    {
      "cell_type": "markdown",
      "metadata": {
        "id": "view-in-github",
        "colab_type": "text"
      },
      "source": [
        "<a href=\"https://colab.research.google.com/github/PloyTara/knniris/blob/main/irisknn.ipynb\" target=\"_parent\"><img src=\"https://colab.research.google.com/assets/colab-badge.svg\" alt=\"Open In Colab\"/></a>"
      ]
    },
    {
      "cell_type": "code",
      "metadata": {
        "id": "bAT-W3tiaO0K"
      },
      "source": [
        "import pandas as pd\n",
        "import os\n",
        "import numpy as np\n",
        "\n",
        "def load_iris_dataset(path='.dataset./iris.csv', split_train_test=None):\n",
        "  if os.path.isfile(path):\n",
        "    iris = pd.read_csv(path)\n",
        "  else :\n",
        "    url = 'http://archive.ics.uci.edu/ml/machine-learning-' + 'databases/iris/iris.data'\n",
        "    iris = pd.read_csv(url, header=None)\n",
        "    iris.to_cvs(path, index=False)\n",
        "  X = iris.iloc[:, :4].values\n",
        "  Y = iris.iloc[:, :-1].values\n",
        "  if split_train_test:\n",
        "    classes = np.unique(Y)\n",
        "    itrain = np.empty((0,), dtype = np.int)\n",
        "    itest = np.empty((0,), dtype = np.int)\n",
        "    for i in classes:\n",
        "      idx = np.where(Y == i)[0]\n",
        "      split = int(len(idx) * split_train_test)\n",
        "      itrain = np.concatenate((itrain, idx[:split]))\n",
        "      itest = np.concatenate((itrain, idx[split:]))\n",
        "      return X[itrain], Y[itrain], X[itest], Y[itest]\n",
        "    return X, Y\n",
        "\n",
        "if __name__ == '__mainn__':\n",
        "  irisInputs, irisTargets = load_iris_dataset()\n",
        "  print(irisInputs)\n",
        "  print(irisTargets)\n",
        "  \n"
      ],
      "execution_count": 1,
      "outputs": []
    }
  ]
}